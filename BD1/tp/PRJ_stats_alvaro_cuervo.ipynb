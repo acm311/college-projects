{
 "cells": [
  {
   "cell_type": "markdown",
   "metadata": {},
   "source": [
    "# TP de session\n",
    "\n",
    "### Alvaro Cuervo\n",
    "### GROUPE: 4-243           \n",
    "### COURS: BD1"
   ]
  },
  {
   "cell_type": "code",
   "execution_count": 29,
   "metadata": {},
   "outputs": [],
   "source": [
    "#import de packages\n",
    "import pandas as pd\n",
    "import matplotlib.pyplot as plt\n",
    "import seaborn as sns"
   ]
  },
  {
   "cell_type": "markdown",
   "metadata": {},
   "source": [
    "# Collect data using pandas"
   ]
  },
  {
   "cell_type": "code",
   "execution_count": 30,
   "metadata": {},
   "outputs": [
    {
     "data": {
      "text/plain": [
       "pandas.core.frame.DataFrame"
      ]
     },
     "execution_count": 30,
     "metadata": {},
     "output_type": "execute_result"
    }
   ],
   "source": [
    "#lire le fichier\n",
    "donnees = pd.read_csv (\"etudiants.csv\", delimiter = \"|\")\n",
    "type (donnees)"
   ]
  },
  {
   "cell_type": "code",
   "execution_count": 31,
   "metadata": {},
   "outputs": [
    {
     "data": {
      "text/html": [
       "<div>\n",
       "<style scoped>\n",
       "    .dataframe tbody tr th:only-of-type {\n",
       "        vertical-align: middle;\n",
       "    }\n",
       "\n",
       "    .dataframe tbody tr th {\n",
       "        vertical-align: top;\n",
       "    }\n",
       "\n",
       "    .dataframe thead th {\n",
       "        text-align: right;\n",
       "    }\n",
       "</style>\n",
       "<table border=\"1\" class=\"dataframe\">\n",
       "  <thead>\n",
       "    <tr style=\"text-align: right;\">\n",
       "      <th></th>\n",
       "      <th>ID</th>\n",
       "      <th>Nom</th>\n",
       "      <th>Age</th>\n",
       "      <th>IPA</th>\n",
       "      <th>Note-Finale</th>\n",
       "    </tr>\n",
       "  </thead>\n",
       "  <tbody>\n",
       "    <tr>\n",
       "      <th>0</th>\n",
       "      <td>0</td>\n",
       "      <td>Flouflou</td>\n",
       "      <td>42</td>\n",
       "      <td>4</td>\n",
       "      <td>75</td>\n",
       "    </tr>\n",
       "    <tr>\n",
       "      <th>1</th>\n",
       "      <td>1</td>\n",
       "      <td>Flouclair</td>\n",
       "      <td>52</td>\n",
       "      <td>24</td>\n",
       "      <td>94</td>\n",
       "    </tr>\n",
       "    <tr>\n",
       "      <th>2</th>\n",
       "      <td>2</td>\n",
       "      <td>Claiclair</td>\n",
       "      <td>36</td>\n",
       "      <td>31</td>\n",
       "      <td>57</td>\n",
       "    </tr>\n",
       "    <tr>\n",
       "      <th>3</th>\n",
       "      <td>3</td>\n",
       "      <td>DefClair</td>\n",
       "      <td>24</td>\n",
       "      <td>2</td>\n",
       "      <td>72</td>\n",
       "    </tr>\n",
       "    <tr>\n",
       "      <th>4</th>\n",
       "      <td>4</td>\n",
       "      <td>Clairflou</td>\n",
       "      <td>73</td>\n",
       "      <td>3</td>\n",
       "      <td>70</td>\n",
       "    </tr>\n",
       "  </tbody>\n",
       "</table>\n",
       "</div>"
      ],
      "text/plain": [
       "   ID        Nom  Age  IPA  Note-Finale\n",
       "0   0   Flouflou   42    4           75\n",
       "1   1  Flouclair   52   24           94\n",
       "2   2  Claiclair   36   31           57\n",
       "3   3   DefClair   24    2           72\n",
       "4   4  Clairflou   73    3           70"
      ]
     },
     "execution_count": 31,
     "metadata": {},
     "output_type": "execute_result"
    }
   ],
   "source": [
    "# on valide le correct chargement de données\n",
    "donnees.head()"
   ]
  },
  {
   "cell_type": "markdown",
   "metadata": {},
   "source": [
    "# Statistiques descriptives"
   ]
  },
  {
   "cell_type": "code",
   "execution_count": 32,
   "metadata": {},
   "outputs": [
    {
     "data": {
      "text/html": [
       "<div>\n",
       "<style scoped>\n",
       "    .dataframe tbody tr th:only-of-type {\n",
       "        vertical-align: middle;\n",
       "    }\n",
       "\n",
       "    .dataframe tbody tr th {\n",
       "        vertical-align: top;\n",
       "    }\n",
       "\n",
       "    .dataframe thead th {\n",
       "        text-align: right;\n",
       "    }\n",
       "</style>\n",
       "<table border=\"1\" class=\"dataframe\">\n",
       "  <thead>\n",
       "    <tr style=\"text-align: right;\">\n",
       "      <th></th>\n",
       "      <th>ID</th>\n",
       "      <th>Age</th>\n",
       "      <th>IPA</th>\n",
       "      <th>Note-Finale</th>\n",
       "    </tr>\n",
       "  </thead>\n",
       "  <tbody>\n",
       "    <tr>\n",
       "      <th>count</th>\n",
       "      <td>5.000000</td>\n",
       "      <td>5.000000</td>\n",
       "      <td>5.000000</td>\n",
       "      <td>5.000000</td>\n",
       "    </tr>\n",
       "    <tr>\n",
       "      <th>mean</th>\n",
       "      <td>2.000000</td>\n",
       "      <td>45.400000</td>\n",
       "      <td>12.800000</td>\n",
       "      <td>73.600000</td>\n",
       "    </tr>\n",
       "    <tr>\n",
       "      <th>std</th>\n",
       "      <td>1.581139</td>\n",
       "      <td>18.460769</td>\n",
       "      <td>13.663821</td>\n",
       "      <td>13.315405</td>\n",
       "    </tr>\n",
       "    <tr>\n",
       "      <th>min</th>\n",
       "      <td>0.000000</td>\n",
       "      <td>24.000000</td>\n",
       "      <td>2.000000</td>\n",
       "      <td>57.000000</td>\n",
       "    </tr>\n",
       "    <tr>\n",
       "      <th>25%</th>\n",
       "      <td>1.000000</td>\n",
       "      <td>36.000000</td>\n",
       "      <td>3.000000</td>\n",
       "      <td>70.000000</td>\n",
       "    </tr>\n",
       "    <tr>\n",
       "      <th>50%</th>\n",
       "      <td>2.000000</td>\n",
       "      <td>42.000000</td>\n",
       "      <td>4.000000</td>\n",
       "      <td>72.000000</td>\n",
       "    </tr>\n",
       "    <tr>\n",
       "      <th>75%</th>\n",
       "      <td>3.000000</td>\n",
       "      <td>52.000000</td>\n",
       "      <td>24.000000</td>\n",
       "      <td>75.000000</td>\n",
       "    </tr>\n",
       "    <tr>\n",
       "      <th>max</th>\n",
       "      <td>4.000000</td>\n",
       "      <td>73.000000</td>\n",
       "      <td>31.000000</td>\n",
       "      <td>94.000000</td>\n",
       "    </tr>\n",
       "  </tbody>\n",
       "</table>\n",
       "</div>"
      ],
      "text/plain": [
       "             ID        Age        IPA  Note-Finale\n",
       "count  5.000000   5.000000   5.000000     5.000000\n",
       "mean   2.000000  45.400000  12.800000    73.600000\n",
       "std    1.581139  18.460769  13.663821    13.315405\n",
       "min    0.000000  24.000000   2.000000    57.000000\n",
       "25%    1.000000  36.000000   3.000000    70.000000\n",
       "50%    2.000000  42.000000   4.000000    72.000000\n",
       "75%    3.000000  52.000000  24.000000    75.000000\n",
       "max    4.000000  73.000000  31.000000    94.000000"
      ]
     },
     "execution_count": 32,
     "metadata": {},
     "output_type": "execute_result"
    }
   ],
   "source": [
    "#Statistiques descriptives\n",
    "donnees.describe()"
   ]
  },
  {
   "cell_type": "code",
   "execution_count": 33,
   "metadata": {},
   "outputs": [
    {
     "name": "stdout",
     "output_type": "stream",
     "text": [
      "L’étendue\n",
      "étendue age = 49, étendue ipa = 29, étendue note finale = 37\n",
      "\n",
      "La médiane\n",
      "Médiane age = 42.0, Médiane ipa = 4.0, Médiane note finale  = 72.0\n",
      "\n",
      "Premier et troisième quartile\n",
      "Quartile age... \n",
      "0.25    36.0\n",
      "0.75    52.0\n",
      "Name: Age, dtype: float64, \n",
      "\n",
      "Quartile ipa... \n",
      "0.25     3.0\n",
      "0.75    24.0\n",
      "Name: IPA, dtype: float64, \n",
      "\n",
      "Quartile note finale... \n",
      "0.25    70.0\n",
      "0.75    75.0\n",
      "Name: Note-Finale, dtype: float64\n"
     ]
    }
   ],
   "source": [
    "#l’étendue, la médiane, le premier et troisième quartile des séries\n",
    "\n",
    "#l’étendue\n",
    "étendue_age = donnees[\"Age\"].max() - donnees[\"Age\"].min()\n",
    "étendue_ipa = donnees[\"IPA\"].max() - donnees[\"IPA\"].min()\n",
    "étendue_note_finale = donnees[\"Note-Finale\"].max() - donnees[\"Note-Finale\"].min()\n",
    "print (\"L’étendue\")\n",
    "print (\"étendue age = {}, étendue ipa = {}, étendue note finale = {}\".\n",
    "       format (étendue_age, étendue_ipa, étendue_note_finale))\n",
    "\n",
    "#la médiane\n",
    "médiane_age = donnees[\"Age\"].median()\n",
    "médiane_ipa = donnees[\"IPA\"].median()\n",
    "médiane_note_finale = donnees[\"Note-Finale\"].median()\n",
    "print (\"\\nLa médiane\")\n",
    "print (\"Médiane age = {}, Médiane ipa = {}, Médiane note finale  = {}\".\n",
    "       format (médiane_age, médiane_ipa, médiane_note_finale))\n",
    "\n",
    "#le premier et troisième quartile\n",
    "quartile_age = donnees[\"Age\"].quantile([0.25,0.75])\n",
    "quartile_ipa = donnees[\"IPA\"].quantile([0.25,0.75])\n",
    "quartile_note_finale = donnees[\"Note-Finale\"].quantile([0.25,0.75])\n",
    "print (\"\\nPremier et troisième quartile\")\n",
    "print (\"Quartile age... \\n{}, \\n\\nQuartile ipa... \\n{}, \\n\\nQuartile note finale... \\n{}\".\n",
    "       format (quartile_age, quartile_ipa, quartile_note_finale))\n",
    "\n"
   ]
  },
  {
   "cell_type": "code",
   "execution_count": 34,
   "metadata": {},
   "outputs": [
    {
     "name": "stdout",
     "output_type": "stream",
     "text": [
      "Moyenne age = 45.4, Moyenne ipa = 12.8, Moyenne note finale  = 73.6\n"
     ]
    }
   ],
   "source": [
    "#note moyenne arrondie au dixième de cette série\n",
    "moyenne_age = round (donnees[\"Age\"].mean(), 2)\n",
    "moyenne_ipa = round (donnees[\"IPA\"].mean(), 2)\n",
    "moyenne_note_finale = round (donnees[\"Note-Finale\"].mean(), 2)\n",
    "print (\"Moyenne age = {}, Moyenne ipa = {}, Moyenne note finale  = {}\".\n",
    "       format (moyenne_age, moyenne_ipa, moyenne_note_finale))"
   ]
  },
  {
   "cell_type": "markdown",
   "metadata": {},
   "source": [
    "# Relations entre les descripteurs et la cible"
   ]
  },
  {
   "cell_type": "code",
   "execution_count": 35,
   "metadata": {},
   "outputs": [
    {
     "data": {
      "text/plain": [
       "<matplotlib.axes._subplots.AxesSubplot at 0x1a1dfbb908>"
      ]
     },
     "execution_count": 35,
     "metadata": {},
     "output_type": "execute_result"
    },
    {
     "data": {
      "image/png": "[encoded data removed]",
      "text/plain": [
       "<matplotlib.figure.Figure at 0x1a1dfbb048>"
      ]
     },
     "metadata": {},
     "output_type": "display_data"
    }
   ],
   "source": [
    "#Développer la matrice de corrélation (identification des liens potentiels entre les différentes variables)\n",
    "donnees.plot (kind=\"scatter\", x=\"ID\", y=\"Note-Finale\")"
   ]
  },
  {
   "cell_type": "code",
   "execution_count": 36,
   "metadata": {},
   "outputs": [
    {
     "data": {
      "text/plain": [
       "<matplotlib.axes._subplots.AxesSubplot at 0x1a1e03b668>"
      ]
     },
     "execution_count": 36,
     "metadata": {},
     "output_type": "execute_result"
    },
    {
     "data": {
      "image/png": "[encoded data removed]",
      "text/plain": [
       "<matplotlib.figure.Figure at 0x1a1e06e4e0>"
      ]
     },
     "metadata": {},
     "output_type": "display_data"
    }
   ],
   "source": [
    "donnees.plot (kind=\"scatter\", x=\"Age\", y=\"Note-Finale\")"
   ]
  },
  {
   "cell_type": "code",
   "execution_count": 37,
   "metadata": {},
   "outputs": [
    {
     "data": {
      "text/plain": [
       "<matplotlib.axes._subplots.AxesSubplot at 0x1a1dfa5898>"
      ]
     },
     "execution_count": 37,
     "metadata": {},
     "output_type": "execute_result"
    },
    {
     "data": {
      "image/png": "[encoded data removed]",
      "text/plain": [
       "<matplotlib.figure.Figure at 0x1a1e12f438>"
      ]
     },
     "metadata": {},
     "output_type": "display_data"
    }
   ],
   "source": [
    "donnees.plot (kind=\"scatter\", x=\"IPA\", y=\"Note-Finale\")"
   ]
  },
  {
   "cell_type": "code",
   "execution_count": 38,
   "metadata": {},
   "outputs": [
    {
     "data": {
      "text/plain": [
       "<seaborn.axisgrid.PairGrid at 0x1a1e152550>"
      ]
     },
     "execution_count": 38,
     "metadata": {},
     "output_type": "execute_result"
    },
    {
     "data": {
      "image/png": "[encoded data removed]",
      "text/plain": [
       "<matplotlib.figure.Figure at 0x1a1e152978>"
      ]
     },
     "metadata": {},
     "output_type": "display_data"
    }
   ],
   "source": [
    "#en utilisant seaborn\n",
    "sns.pairplot (donnees, x_vars=[\"ID\", \"Age\", \"IPA\"], y_vars=\"Note-Finale\", size=7, aspect=0.7)"
   ]
  },
  {
   "cell_type": "markdown",
   "metadata": {},
   "source": [
    "# Correlations entre les descripteurs et la cible "
   ]
  },
  {
   "cell_type": "code",
   "execution_count": 39,
   "metadata": {},
   "outputs": [
    {
     "data": {
      "text/plain": [
       "<matplotlib.axes._subplots.AxesSubplot at 0x1a1e3213c8>"
      ]
     },
     "execution_count": 39,
     "metadata": {},
     "output_type": "execute_result"
    },
    {
     "data": {
      "image/png": "[encoded data removed]",
      "text/plain": [
       "<matplotlib.figure.Figure at 0x1a1e205390>"
      ]
     },
     "metadata": {},
     "output_type": "display_data"
    }
   ],
   "source": [
    "sns.heatmap(data=donnees.corr().round(2), cmap=\"coolwarm\", annot=True, annot_kws={\"size\":8})"
   ]
  },
  {
   "cell_type": "code",
   "execution_count": 40,
   "metadata": {},
   "outputs": [],
   "source": [
    "# On confirme qu'in n'y a pas vraiment de dépendance entre les descripteurs"
   ]
  },
  {
   "cell_type": "markdown",
   "metadata": {},
   "source": [
    "# Histogramme de la série"
   ]
  },
  {
   "cell_type": "code",
   "execution_count": 41,
   "metadata": {},
   "outputs": [
    {
     "name": "stdout",
     "output_type": "stream",
     "text": [
      "0    75\n",
      "1    94\n",
      "2    57\n",
      "3    72\n",
      "4    70\n",
      "Name: Note-Finale, dtype: int64\n"
     ]
    },
    {
     "data": {
      "text/plain": [
       "<matplotlib.axes._subplots.AxesSubplot at 0x1a1e7f38d0>"
      ]
     },
     "execution_count": 41,
     "metadata": {},
     "output_type": "execute_result"
    },
    {
     "data": {
      "image/png": "[encoded data removed]",
      "text/plain": [
       "<matplotlib.figure.Figure at 0x1a1e8250f0>"
      ]
     },
     "metadata": {},
     "output_type": "display_data"
    }
   ],
   "source": [
    "print (donnees[\"Note-Finale\"])\n",
    "sns.distplot(donnees[\"Note-Finale\"])"
   ]
  },
  {
   "cell_type": "code",
   "execution_count": null,
   "metadata": {},
   "outputs": [],
   "source": []
  }
 ],
 "metadata": {
  "kernelspec": {
   "display_name": "Python 3",
   "language": "python",
   "name": "python3"
  },
  "language_info": {
   "codemirror_mode": {
    "name": "ipython",
    "version": 3
   },
   "file_extension": ".py",
   "mimetype": "text/x-python",
   "name": "python",
   "nbconvert_exporter": "python",
   "pygments_lexer": "ipython3",
   "version": "3.6.4"
  }
 },
 "nbformat": 4,
 "nbformat_minor": 2
}
